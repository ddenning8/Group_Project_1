{
 "cells": [
  {
   "cell_type": "code",
   "execution_count": null,
   "metadata": {},
   "outputs": [],
   "source": [
    "%matplotlib notebook"
   ]
  },
  {
   "cell_type": "code",
   "execution_count": null,
   "metadata": {},
   "outputs": [],
   "source": [
    "import matplotlib\n",
    "import matplotlib.pyplot as plt\n",
    "import pandas as pd\n",
    "import numpy as np"
   ]
  },
  {
   "cell_type": "code",
   "execution_count": null,
   "metadata": {},
   "outputs": [],
   "source": [
    "housing_df = pd.read_csv(\"Resources/DC_Properties.csv\")\n",
    "housing_df2 = housing_df.drop([\"Unnamed: 0\", \"BLDG_NUM\", \"NATIONALGRID\", \"X\", \"Y\"], axis=1)\n",
    "housing_df2['YEAR'] = pd.DatetimeIndex(housing_df2['SALEDATE']).year\n",
    "housing_df2['MONTH'] = pd.DatetimeIndex(housing_df2['SALEDATE']).month\n",
    "hdf3 = housing_df2.loc[housing_df2['SOURCE'] == 'Residential', : ]\n",
    "hdf4 = hdf3.dropna(subset=['PRICE'])\n",
    "hdf5 = hdf4.loc[hdf4['YEAR']> 1991, : ]\n",
    "hdf6 = hdf5.loc[hdf5['YEAR']< 2018, : ]\n",
    "housing = hdf6"
   ]
  },
  {
   "cell_type": "code",
   "execution_count": null,
   "metadata": {},
   "outputs": [],
   "source": [
    "NE1 = housing.loc[housing['QUADRANT'] == 'NE', ['QUADRANT','SALEDATE','YEAR']]\n",
    "NE  = NE1.groupby('YEAR')['SALEDATE'].count()\n",
    "\n",
    "NW1 = housing.loc[housing['QUADRANT'] == 'NW', ['QUADRANT','SALEDATE','YEAR']]\n",
    "NW  = NW1.groupby('YEAR')['SALEDATE'].count()\n",
    "\n",
    "SE1 = housing.loc[housing['QUADRANT'] == 'SE', ['QUADRANT','SALEDATE','YEAR']]\n",
    "SE  = SE1.groupby('YEAR')['SALEDATE'].count()\n",
    "\n",
    "SW1 = housing.loc[housing['QUADRANT'] == 'SW', ['QUADRANT','SALEDATE','YEAR']]\n",
    "SW  = SW1.groupby('YEAR')['SALEDATE'].count()"
   ]
  },
  {
   "cell_type": "code",
   "execution_count": null,
   "metadata": {},
   "outputs": [],
   "source": [
    "line_chart = NE.plot(kind=\"line\", label='NE', title=\"Number of Sales by Quad & Year\")\n",
    "line_chart = NW.plot(kind=\"line\", label='NW')\n",
    "line_chart = SE.plot(kind=\"line\", label='SE')\n",
    "line_chart = SW.plot(kind=\"line\", label='SW')\n",
    "\n",
    "plt.grid()\n",
    "line_chart.set_xlabel(\"YEAR\")\n",
    "line_chart.set_ylabel(\"# of Sales\")\n",
    "plt.legend(loc=\"best\")\n",
    "plt.savefig('DH_Images/NumofSalesbyQuad&Year.png')\n",
    "plt.show()"
   ]
  }
 ],
 "metadata": {
  "kernelspec": {
   "display_name": "Python 3",
   "language": "python",
   "name": "python3"
  },
  "language_info": {
   "codemirror_mode": {
    "name": "ipython",
    "version": 3
   },
   "file_extension": ".py",
   "mimetype": "text/x-python",
   "name": "python",
   "nbconvert_exporter": "python",
   "pygments_lexer": "ipython3",
   "version": "3.7.1"
  }
 },
 "nbformat": 4,
 "nbformat_minor": 2
}
